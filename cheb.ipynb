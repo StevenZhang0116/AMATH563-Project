{
 "cells": [
  {
   "cell_type": "code",
   "metadata": {
    "ExecuteTime": {
     "end_time": "2024-05-24T00:18:52.569033Z",
     "start_time": "2024-05-24T00:18:49.974633Z"
    }
   },
   "source": [
    "import numpy as np\n",
    "from scipy.special import eval_chebyt\n",
    "from numpy.polynomial.chebyshev import chebval\n",
    "import matplotlib.pyplot as plt\n",
    "\n",
    "def generate_chebyshev_data(num_points=1000, max_order=5, num_components=1):\n",
    "    coefficients = np.random.randn(max_order + 1)\n",
    "    \n",
    "    x = np.linspace(-1, 1, num_points)\n",
    "    \n",
    "    y_all = np.zeros(num_points)\n",
    "    for _ in range(num_components):\n",
    "        y = chebval(x, coefficients)\n",
    "        y_all += y\n",
    "    \n",
    "    return x, y_all\n",
    "\n",
    "max_order = 10\n",
    "iterationslst = [1000,2000,3000,4000,5000,6000,7000,8000,9000,10000]\n",
    "for iterations in iterationslst:\n",
    "    y_lst = []\n",
    "    for _ in range(iterations):  \n",
    "        x, y = generate_chebyshev_data(num_points=1000, max_order=max_order)\n",
    "        y_lst.append(y)\n",
    "\n",
    "    y_lst = np.array(y_lst)\n",
    "    np.save(f\"toy_quadratic_data_iter_{iterations}_order_{max_order}.npy\", y_lst)\n",
    "    print(y_lst.shape)\n",
    "\n",
    "# plt.plot(y_lst[0])"
   ],
   "outputs": [
    {
     "name": "stdout",
     "output_type": "stream",
     "text": [
      "(1000, 1000)\n",
      "(2000, 1000)\n",
      "(3000, 1000)\n",
      "(4000, 1000)\n",
      "(5000, 1000)\n",
      "(6000, 1000)\n",
      "(7000, 1000)\n",
      "(8000, 1000)\n",
      "(9000, 1000)\n",
      "(10000, 1000)\n"
     ]
    }
   ],
   "execution_count": 1
  },
  {
   "metadata": {},
   "cell_type": "code",
   "outputs": [],
   "execution_count": null,
   "source": ""
  }
 ],
 "metadata": {
  "kernelspec": {
   "display_name": "Python 3",
   "language": "python",
   "name": "python3"
  },
  "language_info": {
   "codemirror_mode": {
    "name": "ipython",
    "version": 3
   },
   "file_extension": ".py",
   "mimetype": "text/x-python",
   "name": "python",
   "nbconvert_exporter": "python",
   "pygments_lexer": "ipython3",
   "version": "3.9.0"
  }
 },
 "nbformat": 4,
 "nbformat_minor": 2
}
