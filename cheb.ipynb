{
 "cells": [
  {
   "cell_type": "code",
   "execution_count": 1,
   "metadata": {},
   "outputs": [
    {
     "name": "stdout",
     "output_type": "stream",
     "text": [
      "(2000, 1000)\n"
     ]
    }
   ],
   "source": [
    "import numpy as np\n",
    "from scipy.special import eval_chebyt\n",
    "import matplotlib.pyplot as plt\n",
    "\n",
    "def generate_chebyshev_data(num_points=1000, max_order=10, num_terms=None):\n",
    "    \"\"\"\n",
    "    \"\"\"\n",
    "    if num_terms is None:\n",
    "        num_terms = np.random.randint(1, 100 + 1)\n",
    "    \n",
    "    coefficients = np.random.randn(num_terms)\n",
    "    \n",
    "    x = np.linspace(-1, 1, num_points)\n",
    "    \n",
    "    y = np.zeros_like(x)\n",
    "    for i in range(num_terms):\n",
    "        y += coefficients[i] * eval_chebyt(i, x)\n",
    "    \n",
    "    return x, y\n",
    "\n",
    "y_lst = []\n",
    "for _ in range(2000):  \n",
    "    x, y = generate_chebyshev_data(num_points=1000, max_order=10)\n",
    "    y_lst.append(y)\n",
    "\n",
    "y_lst = np.array(y_lst)\n",
    "np.save(\"toy_quadratic_data.npy\", y_lst)\n",
    "print(y_lst.shape)\n"
   ]
  }
 ],
 "metadata": {
  "kernelspec": {
   "display_name": "Python 3",
   "language": "python",
   "name": "python3"
  },
  "language_info": {
   "codemirror_mode": {
    "name": "ipython",
    "version": 3
   },
   "file_extension": ".py",
   "mimetype": "text/x-python",
   "name": "python",
   "nbconvert_exporter": "python",
   "pygments_lexer": "ipython3",
   "version": "3.9.0"
  }
 },
 "nbformat": 4,
 "nbformat_minor": 2
}
