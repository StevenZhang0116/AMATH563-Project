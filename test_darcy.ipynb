{
 "cells": [
  {
   "cell_type": "code",
   "execution_count": 32,
   "metadata": {},
   "source": [
    "import numpy as np\n",
    "import matplotlib.pyplot as plt\n",
    "from sklearn.model_selection import train_test_split, GridSearchCV\n",
    "from sklearn.kernel_ridge import KernelRidge\n",
    "from sklearn.preprocessing import StandardScaler, PolynomialFeatures\n",
    "from sklearn.decomposition import PCA\n",
    "from sklearn.linear_model import Ridge\n",
    "from sklearn.metrics import make_scorer, mean_squared_error\n",
    "from sklearn.pipeline import Pipeline\n",
    "from scipy import io\n",
    "import time\n"
   ],
   "outputs": []
  },
  {
   "cell_type": "code",
   "execution_count": 34,
   "metadata": {},
   "source": [
    "def get_data(filename, ndata):\n",
    "    # 5->85x85, 6->71x71, 7->61x61, 10->43x43, 12->36x36, 14->31x31, 15->29x29\n",
    "    r = 15\n",
    "    s = int(((421 - 1) / r) + 1)\n",
    "\n",
    "    # Data is of the shape (number of samples = 1024, grid size = 421x421)\n",
    "    data = io.loadmat(filename)\n",
    "    x_branch = data[\"coeff\"][:ndata, ::r, ::r].astype(np.float64) #* 0.1 - 0.75\n",
    "    y = data[\"sol\"][:ndata, ::r, ::r].astype(np.float64) * 100\n",
    "    # The dataset has a mistake that the BC is not 0.\n",
    "    y[:, 0, :] = 0\n",
    "    y[:, -1, :] = 0\n",
    "    y[:, :, 0] = 0\n",
    "    y[:, :, -1] = 0\n",
    "\n",
    "    grids = []\n",
    "    grids.append(np.linspace(0, 1, s, dtype=np.float32))\n",
    "    grids.append(np.linspace(0, 1, s, dtype=np.float32))\n",
    "    grid = np.vstack([xx.ravel() for xx in np.meshgrid(*grids)]).T\n",
    "\n",
    "    x_branch = x_branch.reshape(ndata, s * s)\n",
    "    #x = (x_branch, grid)\n",
    "    y = y.reshape(ndata, s * s)\n",
    "    return x_branch, y, grid\n",
    "\n",
    "X_train, y_train, grid = get_data(\"piececonst_r421_N1024_smooth1.mat\", 800)\n",
    "X_test, y_test, grid = get_data(\"piececonst_r421_N1024_smooth2.mat\", 200)"
   ],
   "outputs": []
  },
  {
   "cell_type": "code",
   "execution_count": 35,
   "metadata": {},
   "source": [
    "print(X_train.shape)"
   ],
   "outputs": []
  },
  {
   "cell_type": "code",
   "execution_count": 36,
   "metadata": {},
   "source": [
    "def mse_relative(y_true, y_pred):\n",
    "    \"\"\"\n",
    "    :param y_true:\n",
    "    :param y_pred:\n",
    "    :return: average relative mse\n",
    "    \"\"\"\n",
    "    # Handle y_true is zero\n",
    "    non_zero_mask = y_true != 0\n",
    "    return np.mean(np.square(np.linalg.norm(y_true[non_zero_mask] - y_pred[non_zero_mask], axis=-1) / np.linalg.norm(y_true[non_zero_mask], axis=-1)))\n",
    "\n",
    "# X_train, y_train, X_test, y_test, _ = get_data(8000, 2000)\n",
    "\n",
    "# Framework Pipeline\n",
    "pipeline = Pipeline([\n",
    "    ('scaler', StandardScaler()),\n",
    "    ('pca', PCA(0.99999)),\n",
    "    ('poly_features', PolynomialFeatures(2)),\n",
    "    ('regression', Ridge())\n",
    "])\n",
    "\n",
    "# Parameters for Grid Search\n",
    "param_grid = {\n",
    "    'regression__alpha': [1,2]\n",
    "}\n",
    "\n",
    "# Custom scorer for grid search\n",
    "custom_scorer = make_scorer(mse_relative, greater_is_better=False)\n",
    "\n",
    "# Grid search CV\n",
    "grid_search = GridSearchCV(pipeline, param_grid, cv=5, scoring=custom_scorer)\n",
    "grid_search.fit(X_train, y_train)\n",
    "\n",
    "print(\"Best parameters:\", grid_search.best_params_)\n",
    "print(\"Best cross-validation relative MSE score:\", -grid_search.best_score_)\n",
    "\n",
    "# Evaluate on test set using the best model\n",
    "best_model = grid_search.best_estimator_\n",
    "predictions = best_model.predict(X_test)\n",
    "relative_mse = mse_relative(y_test, predictions)\n",
    "mse = mean_squared_error(y_test, predictions)\n",
    "print(f\"Relative Mean Squared Error: {relative_mse}\")\n",
    "print(f\"Test Mean Squared Error: {mse}\")"
   ],
   "outputs": []
  },
  {
   "cell_type": "code",
   "execution_count": 37,
   "metadata": {},
   "source": [
    "grid.shape"
   ],
   "outputs": []
  },
  {
   "cell_type": "code",
   "execution_count": 38,
   "metadata": {},
   "source": [
    "# Plot\n",
    "plt.figure(figsize=(4, 4))\n",
    "plt.plot(y_test[100], label='True Values')\n",
    "plt.plot(predictions[100], label='Predicted Values', linestyle='--')\n",
    "plt.legend()\n",
    "plt.title(\"Best Polynomial Regression with PCA from Grid Search\")\n",
    "plt.show()"
   ],
   "outputs": []
  },
  {
   "cell_type": "code",
   "execution_count": 46,
   "metadata": {},
   "source": [
    "ind = 20\n",
    "fig, axs = plt.subplots(1,4, figsize=(4*4,4))\n",
    "axs[0].imshow(X_test[ind].reshape(29,29), interpolation='bilinear', cmap=\"coolwarm\")\n",
    "axs[1].imshow(y_test[ind].reshape(29,29), cmap=\"coolwarm\")\n",
    "axs[2].imshow(predictions[ind].reshape(29,29), cmap=\"coolwarm\")\n",
    "axs[3].imshow(np.sqrt((y_test[20]-predictions[20])**2/(y_test[20])**2).reshape(29,29), cmap=\"coolwarm\")\n",
    "plt.show()"
   ],
   "outputs": []
  }
 ],
 "metadata": {
  "kernelspec": {
   "display_name": "Python 3",
   "language": "python",
   "name": "python3"
  },
  "language_info": {
   "codemirror_mode": {
    "name": "ipython",
    "version": 3
   },
   "file_extension": ".py",
   "mimetype": "text/x-python",
   "name": "python",
   "nbconvert_exporter": "python",
   "pygments_lexer": "ipython3",
   "version": "3.9.0"
  }
 },
 "nbformat": 4,
 "nbformat_minor": 2
}
