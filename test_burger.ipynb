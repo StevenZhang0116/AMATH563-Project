{
 "cells": [
  {
   "cell_type": "code",
   "execution_count": 14,
   "metadata": {},
   "source": [
    "import numpy as np\n",
    "import matplotlib.pyplot as plt\n",
    "from sklearn.model_selection import train_test_split, GridSearchCV\n",
    "from sklearn.kernel_ridge import KernelRidge\n",
    "from sklearn.preprocessing import StandardScaler, PolynomialFeatures\n",
    "from sklearn.decomposition import PCA\n",
    "from sklearn.linear_model import Ridge\n",
    "from sklearn.metrics import make_scorer, mean_squared_error\n",
    "from sklearn.pipeline import Pipeline\n",
    "from scipy import io\n",
    "import time\n"
   ],
   "outputs": []
  },
  {
   "cell_type": "code",
   "execution_count": 15,
   "metadata": {},
   "source": [
    "def get_data(ntrain, ntest):\n",
    "    sub_x = 2 ** 6\n",
    "    sub_y = 2 ** 6\n",
    "\n",
    "    # Data is of the shape (number of samples = 2048, grid size = 2^13)\n",
    "    data = io.loadmat(\"burgers_data_R10.mat\")\n",
    "    x_data = data[\"a\"][:, ::sub_x].astype(np.float64)\n",
    "    y_data = data[\"u\"][:, ::sub_y].astype(np.float64)\n",
    "    x_branch_train = x_data[:ntrain, :]\n",
    "    y_train = y_data[:ntrain, :]\n",
    "    x_branch_test = x_data[-ntest:, :]\n",
    "    y_test = y_data[-ntest:, :]\n",
    "    \n",
    "        \n",
    "    s = 2 ** 13 // sub_y  # total grid size divided by the subsampling rate\n",
    "    grid = np.linspace(0, 1, num=2 ** 13)[::sub_y, None]\n",
    "\n",
    "    return x_branch_train, y_train, x_branch_test, y_test, grid\n",
    "\n",
    "x, y, x_test, y_test, grid = get_data(1000, 200)\n",
    "print(y_test.shape)"
   ],
   "outputs": []
  },
  {
   "cell_type": "code",
   "execution_count": 16,
   "metadata": {},
   "source": [
    "idx = 2\n",
    "\n",
    "fig, axs = plt.subplots(1, 2, figsize=(4*2,4))\n",
    "axs[0].plot(grid, x[idx])\n",
    "axs[1].plot(grid, y[idx])\n",
    "\n",
    "# plt.xlabel(r'$x$', size= 15)\n",
    "# plt.ylabel(r'$u_0(x)$', size= 15)\n"
   ],
   "outputs": []
  },
  {
   "cell_type": "code",
   "execution_count": 19,
   "metadata": {},
   "source": [
    "def mse_relative(y_true, y_pred):\n",
    "    \"\"\"\n",
    "    :param y_true:\n",
    "    :param y_pred:\n",
    "    :return: average relative mse\n",
    "    \"\"\"\n",
    "    # Handle y_true is zero\n",
    "    non_zero_mask = y_true != 0\n",
    "    return np.mean(np.square(np.linalg.norm(y_true[non_zero_mask] - y_pred[non_zero_mask], axis=-1) / np.linalg.norm(y_true[non_zero_mask], axis=-1)))\n",
    "\n",
    "X_train, y_train, X_test, y_test, _ = get_data(8000, 2000)\n",
    "\n",
    "# Framework Pipeline\n",
    "pipeline = Pipeline([\n",
    "    ('scaler', StandardScaler()),\n",
    "    ('pca', PCA(0.99999)),\n",
    "    ('poly_features', PolynomialFeatures(3)),\n",
    "    ('regression', Ridge())\n",
    "])\n",
    "\n",
    "# Parameters for Grid Search\n",
    "param_grid = {\n",
    "    'regression__alpha': [1,2]\n",
    "}\n",
    "\n",
    "# Custom scorer for grid search\n",
    "custom_scorer = make_scorer(mse_relative, greater_is_better=False)\n",
    "\n",
    "# Grid search CV\n",
    "grid_search = GridSearchCV(pipeline, param_grid, cv=5, scoring=custom_scorer)\n",
    "grid_search.fit(X_train, y_train)\n",
    "\n",
    "print(\"Best parameters:\", grid_search.best_params_)\n",
    "print(\"Best cross-validation relative MSE score:\", -grid_search.best_score_)\n",
    "\n",
    "# Evaluate on test set using the best model\n",
    "best_model = grid_search.best_estimator_\n",
    "predictions = best_model.predict(X_test)\n",
    "relative_mse = mse_relative(y_test, predictions)\n",
    "mse = mean_squared_error(y_test, predictions)\n",
    "print(f\"Relative Mean Squared Error: {relative_mse}\")\n",
    "print(f\"Test Mean Squared Error: {mse}\")\n",
    "\n",
    "# Plot\n",
    "plt.figure(figsize=(4, 4))\n",
    "plt.plot(X_test[200], y_test[200], label='True Values')\n",
    "plt.plot(X_test[200], predictions[200], label='Predicted Values', linestyle='--')\n",
    "plt.legend()\n",
    "plt.title(\"Best Polynomial Regression with PCA from Grid Search\")\n",
    "plt.show()"
   ],
   "outputs": []
  },
  {
   "cell_type": "code",
   "execution_count": 20,
   "metadata": {},
   "source": [
    "fig, axs = plt.subplots(1,2)\n",
    "axs[0].imshow(y_test[0:128,:])\n",
    "axs[1].imshow(predictions[0:128,:])\n",
    "plt.show()"
   ],
   "outputs": []
  }
 ],
 "metadata": {
  "kernelspec": {
   "display_name": "Python 3",
   "language": "python",
   "name": "python3"
  },
  "language_info": {
   "codemirror_mode": {
    "name": "ipython",
    "version": 3
   },
   "file_extension": ".py",
   "mimetype": "text/x-python",
   "name": "python",
   "nbconvert_exporter": "python",
   "pygments_lexer": "ipython3",
   "version": "3.9.0"
  }
 },
 "nbformat": 4,
 "nbformat_minor": 2
}
